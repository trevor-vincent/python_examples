{
 "cells": [
  {
   "cell_type": "code",
   "execution_count": 1,
   "metadata": {},
   "outputs": [],
   "source": [
    "import numpy as np\n",
    "import pandas as pd\n",
    "import matplotlib.pyplot as plt\n",
    "from sklearn.metrics import classification_report\n",
    "from sklearn.metrics import confusion_matrix\n",
    "from sklearn.metrics import accuracy_score\n",
    "from sklearn.model_selection import train_test_split\n",
    "from sklearn.model_selection import cross_val_score\n",
    "from sklearn.preprocessing import StandardScaler\n",
    "from sklearn.svm import SVC\n",
    "from scipy.stats import bernoulli\n",
    "import time"
   ]
  },
  {
   "cell_type": "code",
   "execution_count": 2,
   "metadata": {},
   "outputs": [],
   "source": [
    "data = pd.read_csv('breast_cancer_wisconsin_dset.csv', index_col=False)"
   ]
  },
  {
   "cell_type": "code",
   "execution_count": 3,
   "metadata": {},
   "outputs": [],
   "source": [
    "Y = data['diagnosis'].values\n",
    "X = data.drop('diagnosis', axis=1).values\n",
    "X_train, X_test, Y_train, Y_test = train_test_split (X, Y, test_size = 0.20, random_state=20)"
   ]
  },
  {
   "cell_type": "code",
   "execution_count": 4,
   "metadata": {},
   "outputs": [
    {
     "name": "stdout",
     "output_type": "stream",
     "text": [
      "Accuracy score 0.991228\n"
     ]
    }
   ],
   "source": [
    "scaler = StandardScaler().fit(X_train)\n",
    "X_train_scaled = scaler.transform(X_train)\n",
    "model = SVC(C=2.0, kernel='rbf',probability=True)\n",
    "model.fit(X_train_scaled, Y_train)\n",
    "X_test_scaled = scaler.transform(X_test)\n",
    "predictions = model.predict(X_test_scaled)\n",
    "print(\"Accuracy score %f\" % accuracy_score(Y_test, predictions))"
   ]
  },
  {
   "cell_type": "code",
   "execution_count": 12,
   "metadata": {},
   "outputs": [],
   "source": [
    "def compute_fitness(model, x_adv, targetlabel):\n",
    "    return model.predict_proba([x_adv])[0, targetlabel]\n",
    "\n",
    "def mutation(xx, delta,  rho):\n",
    "        noise = np.random.uniform(low = -delta, high = delta, size=xx.shape)\n",
    "        idx_to_apply = bernoulli.rvs(size=xx.shape, p = rho)\n",
    "        x_adv = xx + idx_to_apply*noise\n",
    "        return x_adv\n",
    "\n",
    "def breed(parent1, parent2, fitness1, fitness2):\n",
    "    total_fitness = fitness1 + fitness2\n",
    "    sampling_input = [fitness1/(total_fitness), fitness2/(total_fitness)]\n",
    "    cumsum_si = np.cumsum(sampling_input)\n",
    "    child = parent2\n",
    "    for i in range(len(parent1)):\n",
    "        #\"flip a weighted coin\" to take gene from a parent\n",
    "        deviate = np.random.uniform(0.0, 1.0)\n",
    "        index = np.where(cumsum_si > deviate)[0][0]\n",
    "        if index == 0:\n",
    "            child[i] = parent1[i]\n",
    "    return child\n",
    "\n",
    "#Function to sample from a probability distribution\n",
    "def sampling(probs):\n",
    "    probs_cumsum = np.cumsum(probs)\n",
    "    deviate = np.random.uniform(0.0, 1.0)\n",
    "    index = np.where(probs_cumsum > deviate)[0][0]\n",
    "    return index\n",
    "\n",
    "def genetic_attack(model, x, delta, rho, pop_size, num_of_generations, targetlabel):\n",
    "    score_history = []\n",
    "    population = [[0 for i in range(pop_size)] for g in range(num_of_generations)]\n",
    "    fitnesses = np.zeros((num_of_generations, pop_size))\n",
    "    \n",
    "    #create initial population\n",
    "    for i in range(0, pop_size):\n",
    "        population[0][i]  = mutation(x, delta, rho) \n",
    "\n",
    "    #start evolution\n",
    "    for g in range(1, num_of_generations):\n",
    "        \n",
    "        #compute fitness of last generations population\n",
    "        for i in range(0, pop_size):\n",
    "            fitnesses[g-1, i] = compute_fitness(model, population[g-1][i], targetlabel)\n",
    "        \n",
    "        #find fittest member in last generation\n",
    "        adv_pop_idx = np.argmax(fitnesses[g-1])\n",
    "        score_history.append(fitnesses[g-1][adv_pop_idx])\n",
    "        x_adv = population[g-1][adv_pop_idx]\n",
    "        #if fittest member is fit enough, stop algorithm, otherwise continue\n",
    "        if g % 1000 == 0:\n",
    "            print('cur_gen:%d, cur_score:%.5f' %(g, fitnesses[g-1][adv_pop_idx]))\n",
    "        if (model.predict_proba([x_adv])[0,targetlabel] > .5):\n",
    "            return score_history\n",
    "        \n",
    "        #add fittest member to next generation\n",
    "        population[g][0] = x_adv       \n",
    "        \n",
    "        #breed children from fit parents for next generation\n",
    "        probs = fitnesses[g-1, :]/(fitnesses[g-1, :].sum())\n",
    "        \n",
    "        for i in range(1, pop_size):\n",
    "            parent_1_idx = sampling(probs)\n",
    "            parent_2_idx = sampling(probs)\n",
    "            parent_1 = population[g-1][parent_1_idx]\n",
    "            parent_2 = population[g-1][parent_2_idx]            \n",
    "            child = breed(parent_1, parent_2, fitnesses[g-1, parent_1_idx], fitnesses[g-1, parent_2_idx])\n",
    "            #mutate the child before adding to next generation\n",
    "            population[g][i] = mutation(child, delta, rho)\n",
    "            \n",
    "    return score_history"
   ]
  },
  {
   "cell_type": "code",
   "execution_count": 13,
   "metadata": {},
   "outputs": [
    {
     "name": "stdout",
     "output_type": "stream",
     "text": [
      "cur_gen:1000, cur_score:0.00175\n",
      "cur_gen:2000, cur_score:0.00699\n",
      "cur_gen:3000, cur_score:0.02623\n",
      "cur_gen:4000, cur_score:0.06933\n",
      "cur_gen:5000, cur_score:0.14252\n",
      "cur_gen:6000, cur_score:0.27755\n",
      "cur_gen:7000, cur_score:0.39967\n",
      "cur_gen:8000, cur_score:0.50000\n"
     ]
    }
   ],
   "source": [
    "score_history = genetic_attack(model, X_train_scaled[0], .01, .1, 100, 10000, 1)"
   ]
  },
  {
   "cell_type": "code",
   "execution_count": 15,
   "metadata": {},
   "outputs": [
    {
     "data": {
      "text/plain": [
       "Text(0.5, 0, 'Generation')"
      ]
     },
     "execution_count": 15,
     "metadata": {},
     "output_type": "execute_result"
    },
    {
     "data": {
      "image/png": "[encoded data removed]",
      "text/plain": [
       "<Figure size 576x396 with 1 Axes>"
      ]
     },
     "metadata": {},
     "output_type": "display_data"
    }
   ],
   "source": [
    "plt.style.use('seaborn')\n",
    "plt.plot(list(range(len(score_history))),score_history)\n",
    "plt.ylabel(\"Fitness\")\n",
    "plt.xlabel(\"Generation\") "
   ]
  },
  {
   "cell_type": "code",
   "execution_count": null,
   "metadata": {},
   "outputs": [],
   "source": []
  }
 ],
 "metadata": {
  "kernelspec": {
   "display_name": "Python 3",
   "language": "python",
   "name": "python3"
  },
  "language_info": {
   "codemirror_mode": {
    "name": "ipython",
    "version": 3
   },
   "file_extension": ".py",
   "mimetype": "text/x-python",
   "name": "python",
   "nbconvert_exporter": "python",
   "pygments_lexer": "ipython3",
   "version": "3.7.4"
  }
 },
 "nbformat": 4,
 "nbformat_minor": 2
}
