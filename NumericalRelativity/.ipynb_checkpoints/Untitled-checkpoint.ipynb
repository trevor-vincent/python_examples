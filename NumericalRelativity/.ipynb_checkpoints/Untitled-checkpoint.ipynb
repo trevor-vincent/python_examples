{
 "cells": [
  {
   "cell_type": "code",
   "execution_count": 1,
   "metadata": {},
   "outputs": [],
   "source": [
    "import numpy as np\n",
    "import math\n",
    "from scipy.optimize import minimize"
   ]
  },
  {
   "cell_type": "code",
   "execution_count": 7,
   "metadata": {},
   "outputs": [],
   "source": [
    "def set_blastwave_initial_data_and_grid():\n",
    "    r = np.arange(0,1,2e-4)\n",
    "    vr_up = np.zeros(len(r)) \n",
    "    rho0 = np.zeros(len(r))\n",
    "    for i in range(len(r)):\n",
    "        if r[i] < 0.5:\n",
    "            p[i] = 1\n",
    "            rho0[i] = 1\n",
    "        else:\n",
    "            p[i] = .1\n",
    "            rho0[i] = .125\n",
    "    return r, rho0, vr_up, p"
   ]
  },
  {
   "cell_type": "code",
   "execution_count": 10,
   "metadata": {},
   "outputs": [],
   "source": [
    "def ideal_gas_eos(rho0,p):\n",
    "    n = 1.5\n",
    "    Gamma = 1.0 + 1.0/n\n",
    "    p = (Gamma - 1)*rho0*eps\n",
    "    eps = p/(rho0*(Gamma - 1))\n",
    "    return eps\n",
    "\n",
    "#vr_up = spatial velocity with upstairs indice, e.g. $v^r$\n",
    "#rho0 = rest mass density\n",
    "#r = spherical radial coordinate\n",
    "def prim_to_cons(r, rho0, vr_up, p, grr):\n",
    "    vr_down = grr*vr_up\n",
    "    W = 1.0/math.sqrt(1 + vr_up*vr_up*grr)\n",
    "    eps = ideal_gas_eos(rho0,p)\n",
    "    h = 1.0 + eps + p/rho0\n",
    "    D = rho0*W\n",
    "    Sr_down = rho0*h*W*W*vr_down\n",
    "    tau = rho0*h*W*W - p - rho0*W\n",
    "\n",
    "def cons_to_prim_newton_raphson_pressure(x,args):\n",
    "    p = x\n",
    "    a, Gamma, w1, w2, w3, rho0 = args\n",
    "    vr_up = w2/((a*a)*(w3 + a*p + w1))\n",
    "    W = 1.0/math.sqrt(1 + vr_up*vr_up*a*a)\n",
    "    return rho0*(Gamma - 1)*(w3 + w2*(1-W)+a*p*(1-W**2))/(w1*W) - p\n",
    "    \n",
    "def cons_to_prim(D,Sr_down,tau, grr, Gamma):\n",
    "    a = sqrt(grr)\n",
    "    w1 = a*D\n",
    "    w2 = a*Sr_down\n",
    "    w3 = a*tau\n",
    "    rho0 = (w1/a)*sqrt(1 - a*a*vr_up*vr_up)\n",
    "    p = optimize.minimize(cons_to_prim_newton_raphson_pressure, initial_guess, [a, Gamma, w1, w2, w3, rho0])\n",
    "    vr_up = w2/((a*a)*(w3 + a*p + w1))\n",
    "    return rho0, p, vr_up"
   ]
  },
  {
   "cell_type": "code",
   "execution_count": null,
   "metadata": {},
   "outputs": [],
   "source": []
  }
 ],
 "metadata": {
  "kernelspec": {
   "display_name": "Python 3",
   "language": "python",
   "name": "python3"
  },
  "language_info": {
   "codemirror_mode": {
    "name": "ipython",
    "version": 3
   },
   "file_extension": ".py",
   "mimetype": "text/x-python",
   "name": "python",
   "nbconvert_exporter": "python",
   "pygments_lexer": "ipython3",
   "version": "3.7.3"
  }
 },
 "nbformat": 4,
 "nbformat_minor": 2
}
